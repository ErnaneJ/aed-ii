{
 "cells": [
  {
   "cell_type": "markdown",
   "metadata": {},
   "source": [
    "# File processing"
   ]
  },
  {
   "cell_type": "code",
   "execution_count": 1,
   "metadata": {},
   "outputs": [],
   "source": [
    "import shutil\n",
    "import os\n",
    "\n",
    "class FileProcessing:\n",
    "  def __init__(self, files):\n",
    "    self.FILES = files\n",
    "\n",
    "  def process_files(self):\n",
    "    for file in self.FILES:\n",
    "      self._clear_file(file)\n",
    "\n",
    "  def _clear_file(self, file_name):\n",
    "    raw_file_path = FileProcessing.get_file_path(file_name)\n",
    "    processed_file_path = FileProcessing.get_file_path(f'{file_name}-processed')\n",
    "\n",
    "    shutil.copyfile(raw_file_path, processed_file_path)\n",
    "\n",
    "    with open(raw_file_path, \"r+\") as raw_file:\n",
    "      for _ in range(4):\n",
    "        raw_file.readline()\n",
    "\n",
    "      with open(processed_file_path, \"w\") as processed_file:\n",
    "        for row in raw_file:\n",
    "          processed_file.write(row)\n",
    "      \n",
    "  @classmethod\n",
    "  def get_file_path(self, file_name):\n",
    "    return os.path.join('..', '..', 'data', f\"{file_name}.txt\")\n",
    "\n",
    "  "
   ]
  },
  {
   "cell_type": "code",
   "execution_count": 2,
   "metadata": {},
   "outputs": [],
   "source": [
    "FILES = [\"email-EuAll\", \"roadNet-PA\", \"ca-HepTh\", \"p2p-Gnutella09\"]\n",
    "file_processing = FileProcessing(FILES)\n",
    "file_processing.process_files()"
   ]
  },
  {
   "cell_type": "markdown",
   "metadata": {},
   "source": [
    "# Requirement II\n",
    "\n",
    "For each of the chosen networks, develop a bipartite graph about sortativity in relation to the degree of network nodes. figures in a grid layout."
   ]
  },
  {
   "cell_type": "code",
   "execution_count": 29,
   "metadata": {},
   "outputs": [],
   "source": [
    "import networkx as nx\n",
    "import matplotlib.pyplot as plt\n",
    "import seaborn as sns\n",
    "import re\n",
    "\n",
    "class BipartiteGraphGeneratorAboutTurnover:\n",
    "  def __init__(self, file):\n",
    "    self.file = open(FileProcessing.get_file_path(file), 'r')\n",
    "    self.rows = self.file.readlines()\n",
    "\n",
    "    self.G = nx.Graph()\n",
    "  \n",
    "  def generate_graph(self):\n",
    "    self._add_edges()\n",
    "    \n",
    "    self.H = nx.DiGraph(self.G)\n",
    "    self.file.close()\n",
    "\n",
    "    return self.G\n",
    "\n",
    "  def get_bipartite_chart_data(self):\n",
    "    degree, avg_neighbor_degree = zip(*nx.average_degree_connectivity(self.G).items())\n",
    "    return list(degree), list(avg_neighbor_degree)\n",
    "\n",
    "  def _add_edges(self):\n",
    "    for row in self.rows:\n",
    "      row = row.rstrip()\n",
    "      nodes = row.split()\n",
    "      self.G.add_edge(int(nodes[0]), int(nodes[1]))\n",
    "\n",
    "class Plotter:\n",
    "  def __init__(self, files):\n",
    "    self.files = files\n",
    "    self.figure, self.axs = plt.subplots(2, 3, figsize=(30, 15))\n",
    "    self.style = \"fivethirtyeight\"\n",
    "    self.ylabel = \"Average neighbor degree\"\n",
    "    self.xlabel = \"Node Degree\"\n",
    "\n",
    "  def plot(self):\n",
    "    counter = 0\n",
    "    for file in self.files:\n",
    "      chart = BipartiteGraphGeneratorAboutTurnover(file)\n",
    "      chart.generate_graph()\n",
    "\n",
    "      degree, avg_neigh_degree = chart.get_bipartite_chart_data()\n",
    "\n",
    "      plt.style.use(self.style)\n",
    "\n",
    "      sns.regplot(x=degree, y=avg_neigh_degree, ax=self.axs[counter//3, counter%3])\n",
    "\n",
    "      self.axs[counter//3, counter%3].set_title(self._normalize_title(file))\n",
    "      self.axs[counter//3, counter%3].set_xlabel(self.xlabel)\n",
    "      self.axs[counter//3, counter%3].set_ylabel(self.ylabel)\n",
    "      self.axs[counter//3, counter%3].set_xlim(0, len(degree))\n",
    "\n",
    "      counter += 1\n",
    "\n",
    "  def _normalize_title(self, file):\n",
    "    return ' '.join([word.title() for word in re.split(r'[-_]', file)])"
   ]
  },
  {
   "cell_type": "code",
   "execution_count": 30,
   "metadata": {},
   "outputs": [],
   "source": [
    "FILES = [\n",
    "  \"email-EuAll-processed\",\n",
    "  \"roadNet-PA-processed\",\n",
    "  \"ca-HepTh-processed\",\n",
    "  \"p2p-Gnutella09-processed\",\n",
    "  \"higgs-activity_time\"\n",
    "]\n",
    "\n",
    "plotter = Plotter(FILES)\n",
    "plotter.plot()"
   ]
  }
 ],
 "metadata": {
  "kernelspec": {
   "display_name": "Python 3",
   "language": "python",
   "name": "python3"
  },
  "language_info": {
   "codemirror_mode": {
    "name": "ipython",
    "version": 3
   },
   "file_extension": ".py",
   "mimetype": "text/x-python",
   "name": "python",
   "nbconvert_exporter": "python",
   "pygments_lexer": "ipython3",
   "version": "3.9.6"
  }
 },
 "nbformat": 4,
 "nbformat_minor": 2
}
